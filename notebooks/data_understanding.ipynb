{
 "cells": [
  {
   "cell_type": "markdown",
   "id": "bbb3efd9",
   "metadata": {},
   "source": [
    "## Data Understanding"
   ]
  },
  {
   "cell_type": "code",
   "execution_count": null,
   "id": "82578fe0",
   "metadata": {},
   "outputs": [],
   "source": [
    "# imports\n",
    "import pandas as pd\n",
    "import matplotlib.pyplot as plt\n",
    "import re\n"
   ]
  },
  {
   "cell_type": "markdown",
   "id": "e7af5d39",
   "metadata": {},
   "source": [
    "<h4 style=\"color:#3f79ffff; margin:0; font-weight:600;\">First I check the shape of the data and how our data set looks like and what anomalies there are and how we can clean the data so we can use it as efficient as possible later on in the process."
   ]
  },
  {
   "cell_type": "code",
   "execution_count": null,
   "id": "e3a69d63",
   "metadata": {},
   "outputs": [
    {
     "name": "stdout",
     "output_type": "stream",
     "text": [
      "<class 'pandas.core.frame.DataFrame'>\n",
      "RangeIndex: 100 entries, 0 to 99\n",
      "Data columns (total 4 columns):\n",
      " #   Column      Non-Null Count  Dtype \n",
      "---  ------      --------------  ----- \n",
      " 0   CallID      100 non-null    int64 \n",
      " 1   Date        100 non-null    object\n",
      " 2   Duration    100 non-null    object\n",
      " 3   Transcript  100 non-null    object\n",
      "dtypes: int64(1), object(3)\n",
      "memory usage: 3.2+ KB\n"
     ]
    },
    {
     "data": {
      "text/html": [
       "<div>\n",
       "<style scoped>\n",
       "    .dataframe tbody tr th:only-of-type {\n",
       "        vertical-align: middle;\n",
       "    }\n",
       "\n",
       "    .dataframe tbody tr th {\n",
       "        vertical-align: top;\n",
       "    }\n",
       "\n",
       "    .dataframe thead th {\n",
       "        text-align: right;\n",
       "    }\n",
       "</style>\n",
       "<table border=\"1\" class=\"dataframe\">\n",
       "  <thead>\n",
       "    <tr style=\"text-align: right;\">\n",
       "      <th></th>\n",
       "      <th>CallID</th>\n",
       "      <th>Date</th>\n",
       "      <th>Duration</th>\n",
       "      <th>Transcript</th>\n",
       "    </tr>\n",
       "  </thead>\n",
       "  <tbody>\n",
       "    <tr>\n",
       "      <th>0</th>\n",
       "      <td>1</td>\n",
       "      <td>15/01/2025</td>\n",
       "      <td>06:32:00</td>\n",
       "      <td>Caller: Hi there, I recently purchased a blend...</td>\n",
       "    </tr>\n",
       "    <tr>\n",
       "      <th>1</th>\n",
       "      <td>2</td>\n",
       "      <td>20/02/2025</td>\n",
       "      <td>07:45:00</td>\n",
       "      <td>Caller: Hello, I was wondering if your webshop...</td>\n",
       "    </tr>\n",
       "    <tr>\n",
       "      <th>2</th>\n",
       "      <td>3</td>\n",
       "      <td>10/03/2025</td>\n",
       "      <td>05:18:00</td>\n",
       "      <td>Caller: The pair of shoes I ordered arrived, b...</td>\n",
       "    </tr>\n",
       "    <tr>\n",
       "      <th>3</th>\n",
       "      <td>4</td>\n",
       "      <td>05/04/2025</td>\n",
       "      <td>08:10:00</td>\n",
       "      <td>Caller: Hi, I'm shopping for wireless earbuds ...</td>\n",
       "    </tr>\n",
       "    <tr>\n",
       "      <th>4</th>\n",
       "      <td>5</td>\n",
       "      <td>22/05/2025</td>\n",
       "      <td>04:25:00</td>\n",
       "      <td>Caller: I see a pending charge on my credit ca...</td>\n",
       "    </tr>\n",
       "  </tbody>\n",
       "</table>\n",
       "</div>"
      ],
      "text/plain": [
       "   CallID        Date  Duration  \\\n",
       "0       1  15/01/2025  06:32:00   \n",
       "1       2  20/02/2025  07:45:00   \n",
       "2       3  10/03/2025  05:18:00   \n",
       "3       4  05/04/2025  08:10:00   \n",
       "4       5  22/05/2025  04:25:00   \n",
       "\n",
       "                                          Transcript  \n",
       "0  Caller: Hi there, I recently purchased a blend...  \n",
       "1  Caller: Hello, I was wondering if your webshop...  \n",
       "2  Caller: The pair of shoes I ordered arrived, b...  \n",
       "3  Caller: Hi, I'm shopping for wireless earbuds ...  \n",
       "4  Caller: I see a pending charge on my credit ca...  "
      ]
     },
     "execution_count": 46,
     "metadata": {},
     "output_type": "execute_result"
    }
   ],
   "source": [
    "# load data\n",
    "df = pd.read_excel(\"../data/phone_transcripts_v0.1.xlsx\")\n",
    "\n",
    "# inspect data\n",
    "df.shape\n",
    "df.info()\n",
    "df.head()"
   ]
  },
  {
   "cell_type": "code",
   "execution_count": null,
   "id": "c7b835d8",
   "metadata": {},
   "outputs": [
    {
     "data": {
      "text/plain": [
       "0    Caller: Hi there, I recently purchased a blender from your site, but it's making this awful grinding noise after just a couple of uses. I'm really disappoin...\n",
       "1    Caller: Hello, I was wondering if your webshop ships products to Canada, and if so, what are the shipping fees and estimated delivery times? I'm interested ...\n",
       "2    Caller: The pair of shoes I ordered arrived, but they're a size too small and pinching my toes. Can I exchange them for the next size up? Agent: Of course, ...\n",
       "3    Caller: Hi, I'm shopping for wireless earbuds and need some recommendations for ones under $50 that have decent sound quality for everyday use like commutin...\n",
       "4    Caller: I see a pending charge on my credit card from your store, but I haven't received any order confirmation email yet. Is everything okay? Agent: Let me...\n",
       "5    Caller: Hello, I'd like to have my order gift-wrapped with a personal note inside. Is that something you can do, and how much extra does it cost? Agent: Yes...\n",
       "6    Caller: I just received the book I ordered, but several pages are missing, and the binding seems loose. This is really frustrating as it was a gift. Agent: ...\n",
       "7    Caller: Hi, I noticed the same product is cheaper on Amazon. Do you guys offer price matching to keep things competitive? Agent: We do price match within 7 ...\n",
       "8    Caller: My promotional code isn't working on the sale items in my cart. Is there a restriction I'm missing? Agent: Some codes exclude sale items. Which code...\n",
       "9    Caller: Hello, I need to update the payment method on my account because my old card expired. Agent: No problem. Are you logged in, or do you have a specifi...\n",
       "Name: Transcript, dtype: object"
      ]
     },
     "metadata": {},
     "output_type": "display_data"
    }
   ],
   "source": [
    "# show more transcript texts\n",
    "with pd.option_context('display.max_colwidth', 160):\n",
    "    display(df['Transcript'].head(10))"
   ]
  },
  {
   "cell_type": "code",
   "execution_count": null,
   "id": "7bf5a787",
   "metadata": {},
   "outputs": [
    {
     "data": {
      "text/html": [
       "<div>\n",
       "<style scoped>\n",
       "    .dataframe tbody tr th:only-of-type {\n",
       "        vertical-align: middle;\n",
       "    }\n",
       "\n",
       "    .dataframe tbody tr th {\n",
       "        vertical-align: top;\n",
       "    }\n",
       "\n",
       "    .dataframe thead th {\n",
       "        text-align: right;\n",
       "    }\n",
       "</style>\n",
       "<table border=\"1\" class=\"dataframe\">\n",
       "  <thead>\n",
       "    <tr style=\"text-align: right;\">\n",
       "      <th></th>\n",
       "      <th>CallID</th>\n",
       "      <th>Date</th>\n",
       "      <th>Duration</th>\n",
       "      <th>Transcript</th>\n",
       "    </tr>\n",
       "  </thead>\n",
       "  <tbody>\n",
       "    <tr>\n",
       "      <th>0</th>\n",
       "      <td>1</td>\n",
       "      <td>2025-01-15</td>\n",
       "      <td>23520</td>\n",
       "      <td>Caller: Hi there, I recently purchased a blend...</td>\n",
       "    </tr>\n",
       "    <tr>\n",
       "      <th>1</th>\n",
       "      <td>2</td>\n",
       "      <td>2025-02-20</td>\n",
       "      <td>27900</td>\n",
       "      <td>Caller: Hello, I was wondering if your webshop...</td>\n",
       "    </tr>\n",
       "    <tr>\n",
       "      <th>2</th>\n",
       "      <td>3</td>\n",
       "      <td>2025-03-10</td>\n",
       "      <td>19080</td>\n",
       "      <td>Caller: The pair of shoes I ordered arrived, b...</td>\n",
       "    </tr>\n",
       "    <tr>\n",
       "      <th>3</th>\n",
       "      <td>4</td>\n",
       "      <td>2025-04-05</td>\n",
       "      <td>29400</td>\n",
       "      <td>Caller: Hi, I'm shopping for wireless earbuds ...</td>\n",
       "    </tr>\n",
       "    <tr>\n",
       "      <th>4</th>\n",
       "      <td>5</td>\n",
       "      <td>2025-05-22</td>\n",
       "      <td>15900</td>\n",
       "      <td>Caller: I see a pending charge on my credit ca...</td>\n",
       "    </tr>\n",
       "  </tbody>\n",
       "</table>\n",
       "</div>"
      ],
      "text/plain": [
       "   CallID       Date  Duration  \\\n",
       "0       1 2025-01-15     23520   \n",
       "1       2 2025-02-20     27900   \n",
       "2       3 2025-03-10     19080   \n",
       "3       4 2025-04-05     29400   \n",
       "4       5 2025-05-22     15900   \n",
       "\n",
       "                                          Transcript  \n",
       "0  Caller: Hi there, I recently purchased a blend...  \n",
       "1  Caller: Hello, I was wondering if your webshop...  \n",
       "2  Caller: The pair of shoes I ordered arrived, b...  \n",
       "3  Caller: Hi, I'm shopping for wireless earbuds ...  \n",
       "4  Caller: I see a pending charge on my credit ca...  "
      ]
     },
     "execution_count": 48,
     "metadata": {},
     "output_type": "execute_result"
    }
   ],
   "source": [
    "# clean data by converting Date to datetime and Duration to seconds\n",
    "df[\"Date\"] = pd.to_datetime(df[\"Date\"], dayfirst=True, errors=\"coerce\")\n",
    "df[\"Duration\"] = pd.to_timedelta(df[\"Duration\"])\n",
    "df[\"Duration\"] = df[\"Duration\"].dt.total_seconds()\n",
    "df[\"Duration\"] = df[\"Duration\"].astype(int)\n",
    "df.head(5)\n"
   ]
  },
  {
   "cell_type": "code",
   "execution_count": null,
   "id": "2b0fdfa6",
   "metadata": {},
   "outputs": [
    {
     "data": {
      "text/plain": [
       "0    164\n",
       "1    138\n",
       "2    112\n",
       "3    130\n",
       "4     86\n",
       "5    116\n",
       "6    112\n",
       "7     77\n",
       "8     64\n",
       "9     82\n",
       "Name: Transcript, dtype: int64"
      ]
     },
     "execution_count": 49,
     "metadata": {},
     "output_type": "execute_result"
    }
   ],
   "source": [
    "# approximate word count per transcript\n",
    "df['Transcript'].str.split().str.len().head(10)"
   ]
  },
  {
   "cell_type": "markdown",
   "id": "ff2a39f4",
   "metadata": {},
   "source": [
    "<h4 style=\"color:#3f79ffff; margin:0; font-weight:600;\">Plot word count distribution of transcripts lengths (important for chunking)</h4>\n"
   ]
  },
  {
   "cell_type": "code",
   "execution_count": null,
   "id": "19789273",
   "metadata": {},
   "outputs": [
    {
     "data": {
      "image/png": "[encoded data removed]",
      "text/plain": [
       "<Figure size 800x300 with 1 Axes>"
      ]
     },
     "metadata": {},
     "output_type": "display_data"
    },
    {
     "name": "stdout",
     "output_type": "stream",
     "text": [
      "Mean: 44.12 Median: 35.0 Min: 17 Max: 164\n"
     ]
    }
   ],
   "source": [
    "wc = df['Transcript'].fillna('').str.split().str.len()\n",
    "ax = wc.reset_index(drop=True).plot(kind='line', figsize=(8,3), title='Words per transcript (row order)')\n",
    "ax.set_xlabel('Row')\n",
    "ax.set_ylabel('Word count')\n",
    "plt.tight_layout()\n",
    "plt.show()\n",
    "print(\"Mean:\", wc.mean(), \"Median:\", wc.median(), \"Min:\", wc.min(), \"Max:\", wc.max())"
   ]
  },
  {
   "cell_type": "markdown",
   "id": "5ef7c1eb",
   "metadata": {},
   "source": [
    "## Chunk Data"
   ]
  },
  {
   "cell_type": "markdown",
   "id": "13a6d7b6",
   "metadata": {},
   "source": [
    "<h4 style=\"color:#3f79ffff; margin:0; font-weight:600;\">Going through all rows in the dataframe and splitting text from \"Caller\" and \"Agent\", then appending everything to a new dataframe with a \"chunk_id\" which we will later use as the ID of the data chunks."
   ]
  },
  {
   "cell_type": "code",
   "execution_count": null,
   "id": "b8bf0f74",
   "metadata": {},
   "outputs": [],
   "source": [
    "def chunk_per_speaker_simple(df):\n",
    "    all_chunks = []\n",
    "\n",
    "    for _, row in df.iterrows():\n",
    "        call_id = row[\"CallID\"]\n",
    "        date = row[\"Date\"]\n",
    "        duration = row[\"Duration\"]\n",
    "        transcript = row[\"Transcript\"]\n",
    "\n",
    "        # Split the text on Caller:/Agent:\n",
    "        parts = re.split(r\"(Caller:|Agent:)\", transcript)\n",
    "\n",
    "        chunk_id = 1\n",
    "        for i in range(1, len(parts), 2):\n",
    "            speaker = parts[i].replace(\":\", \"\").strip()  # 'Caller' or 'Agent'\n",
    "            text = parts[i+1].strip()                    # what they said\n",
    "            \n",
    "            if text:  # only add non-empty texts\n",
    "                all_chunks.append({\n",
    "                    \"call_id\": call_id,\n",
    "                    \"chunk_id\": f\"{call_id}_{chunk_id}\",\n",
    "                    \"date\": date,\n",
    "                    \"duration\": duration,\n",
    "                    \"speaker\": speaker,\n",
    "                    \"transcript\": f\"{speaker}: {text}\"  \n",
    "                })\n",
    "                chunk_id += 1\n",
    "\n",
    "    return pd.DataFrame(all_chunks)\n",
    "\n",
    "chunks_df = chunk_per_speaker_simple(df)"
   ]
  },
  {
   "cell_type": "markdown",
   "id": "e4ed7156",
   "metadata": {},
   "source": [
    "<h4 style=\"color:#3f79ffff; margin:0; font-weight:600;\">Some final checks to see if everything is right and then saving it to a csv so we can later use it to embed and persist.<h4>"
   ]
  },
  {
   "cell_type": "code",
   "execution_count": 52,
   "id": "8cdf8f66",
   "metadata": {},
   "outputs": [
    {
     "data": {
      "text/html": [
       "<div>\n",
       "<style scoped>\n",
       "    .dataframe tbody tr th:only-of-type {\n",
       "        vertical-align: middle;\n",
       "    }\n",
       "\n",
       "    .dataframe tbody tr th {\n",
       "        vertical-align: top;\n",
       "    }\n",
       "\n",
       "    .dataframe thead th {\n",
       "        text-align: right;\n",
       "    }\n",
       "</style>\n",
       "<table border=\"1\" class=\"dataframe\">\n",
       "  <thead>\n",
       "    <tr style=\"text-align: right;\">\n",
       "      <th></th>\n",
       "      <th>call_id</th>\n",
       "      <th>chunk_id</th>\n",
       "      <th>date</th>\n",
       "      <th>duration</th>\n",
       "      <th>speaker</th>\n",
       "      <th>transcript</th>\n",
       "    </tr>\n",
       "  </thead>\n",
       "  <tbody>\n",
       "    <tr>\n",
       "      <th>0</th>\n",
       "      <td>1</td>\n",
       "      <td>1_1</td>\n",
       "      <td>2025-01-15</td>\n",
       "      <td>23520</td>\n",
       "      <td>Caller</td>\n",
       "      <td>Caller: Hi there, I recently purchased a blend...</td>\n",
       "    </tr>\n",
       "    <tr>\n",
       "      <th>1</th>\n",
       "      <td>1</td>\n",
       "      <td>1_2</td>\n",
       "      <td>2025-01-15</td>\n",
       "      <td>23520</td>\n",
       "      <td>Agent</td>\n",
       "      <td>Agent: I'm so sorry to hear about that issue w...</td>\n",
       "    </tr>\n",
       "    <tr>\n",
       "      <th>2</th>\n",
       "      <td>1</td>\n",
       "      <td>1_3</td>\n",
       "      <td>2025-01-15</td>\n",
       "      <td>23520</td>\n",
       "      <td>Caller</td>\n",
       "      <td>Caller: Sure, the order number is 45678. Do yo...</td>\n",
       "    </tr>\n",
       "    <tr>\n",
       "      <th>3</th>\n",
       "      <td>1</td>\n",
       "      <td>1_4</td>\n",
       "      <td>2025-01-15</td>\n",
       "      <td>23520</td>\n",
       "      <td>Agent</td>\n",
       "      <td>Agent: Absolutely, this sounds like a manufact...</td>\n",
       "    </tr>\n",
       "    <tr>\n",
       "      <th>4</th>\n",
       "      <td>1</td>\n",
       "      <td>1_5</td>\n",
       "      <td>2025-01-15</td>\n",
       "      <td>23520</td>\n",
       "      <td>Caller</td>\n",
       "      <td>Caller: I'd love a replacement, please. Yes, I...</td>\n",
       "    </tr>\n",
       "    <tr>\n",
       "      <th>5</th>\n",
       "      <td>1</td>\n",
       "      <td>1_6</td>\n",
       "      <td>2025-01-15</td>\n",
       "      <td>23520</td>\n",
       "      <td>Agent</td>\n",
       "      <td>Agent: No problem at all. I'll process that re...</td>\n",
       "    </tr>\n",
       "    <tr>\n",
       "      <th>6</th>\n",
       "      <td>2</td>\n",
       "      <td>2_1</td>\n",
       "      <td>2025-02-20</td>\n",
       "      <td>27900</td>\n",
       "      <td>Caller</td>\n",
       "      <td>Caller: Hello, I was wondering if your webshop...</td>\n",
       "    </tr>\n",
       "    <tr>\n",
       "      <th>7</th>\n",
       "      <td>2</td>\n",
       "      <td>2_2</td>\n",
       "      <td>2025-02-20</td>\n",
       "      <td>27900</td>\n",
       "      <td>Agent</td>\n",
       "      <td>Agent: Yes, we do offer international shipping...</td>\n",
       "    </tr>\n",
       "    <tr>\n",
       "      <th>8</th>\n",
       "      <td>2</td>\n",
       "      <td>2_3</td>\n",
       "      <td>2025-02-20</td>\n",
       "      <td>27900</td>\n",
       "      <td>Caller</td>\n",
       "      <td>Caller: That sounds reasonable. Is there any w...</td>\n",
       "    </tr>\n",
       "    <tr>\n",
       "      <th>9</th>\n",
       "      <td>2</td>\n",
       "      <td>2_4</td>\n",
       "      <td>2025-02-20</td>\n",
       "      <td>27900</td>\n",
       "      <td>Agent</td>\n",
       "      <td>Agent: Definitely, you'll get a tracking numbe...</td>\n",
       "    </tr>\n",
       "    <tr>\n",
       "      <th>10</th>\n",
       "      <td>2</td>\n",
       "      <td>2_5</td>\n",
       "      <td>2025-02-20</td>\n",
       "      <td>27900</td>\n",
       "      <td>Caller</td>\n",
       "      <td>Caller: Alright, that's helpful. I think I'll ...</td>\n",
       "    </tr>\n",
       "    <tr>\n",
       "      <th>11</th>\n",
       "      <td>2</td>\n",
       "      <td>2_6</td>\n",
       "      <td>2025-02-20</td>\n",
       "      <td>27900</td>\n",
       "      <td>Agent</td>\n",
       "      <td>Agent: You're welcome! If you run into any iss...</td>\n",
       "    </tr>\n",
       "    <tr>\n",
       "      <th>12</th>\n",
       "      <td>3</td>\n",
       "      <td>3_1</td>\n",
       "      <td>2025-03-10</td>\n",
       "      <td>19080</td>\n",
       "      <td>Caller</td>\n",
       "      <td>Caller: The pair of shoes I ordered arrived, b...</td>\n",
       "    </tr>\n",
       "    <tr>\n",
       "      <th>13</th>\n",
       "      <td>3</td>\n",
       "      <td>3_2</td>\n",
       "      <td>2025-03-10</td>\n",
       "      <td>19080</td>\n",
       "      <td>Agent</td>\n",
       "      <td>Agent: Of course, we're happy to help with exc...</td>\n",
       "    </tr>\n",
       "    <tr>\n",
       "      <th>14</th>\n",
       "      <td>3</td>\n",
       "      <td>3_3</td>\n",
       "      <td>2025-03-10</td>\n",
       "      <td>19080</td>\n",
       "      <td>Caller</td>\n",
       "      <td>Caller: The order ID is 98765, and I'd like a ...</td>\n",
       "    </tr>\n",
       "  </tbody>\n",
       "</table>\n",
       "</div>"
      ],
      "text/plain": [
       "    call_id chunk_id       date  duration speaker  \\\n",
       "0         1      1_1 2025-01-15     23520  Caller   \n",
       "1         1      1_2 2025-01-15     23520   Agent   \n",
       "2         1      1_3 2025-01-15     23520  Caller   \n",
       "3         1      1_4 2025-01-15     23520   Agent   \n",
       "4         1      1_5 2025-01-15     23520  Caller   \n",
       "5         1      1_6 2025-01-15     23520   Agent   \n",
       "6         2      2_1 2025-02-20     27900  Caller   \n",
       "7         2      2_2 2025-02-20     27900   Agent   \n",
       "8         2      2_3 2025-02-20     27900  Caller   \n",
       "9         2      2_4 2025-02-20     27900   Agent   \n",
       "10        2      2_5 2025-02-20     27900  Caller   \n",
       "11        2      2_6 2025-02-20     27900   Agent   \n",
       "12        3      3_1 2025-03-10     19080  Caller   \n",
       "13        3      3_2 2025-03-10     19080   Agent   \n",
       "14        3      3_3 2025-03-10     19080  Caller   \n",
       "\n",
       "                                           transcript  \n",
       "0   Caller: Hi there, I recently purchased a blend...  \n",
       "1   Agent: I'm so sorry to hear about that issue w...  \n",
       "2   Caller: Sure, the order number is 45678. Do yo...  \n",
       "3   Agent: Absolutely, this sounds like a manufact...  \n",
       "4   Caller: I'd love a replacement, please. Yes, I...  \n",
       "5   Agent: No problem at all. I'll process that re...  \n",
       "6   Caller: Hello, I was wondering if your webshop...  \n",
       "7   Agent: Yes, we do offer international shipping...  \n",
       "8   Caller: That sounds reasonable. Is there any w...  \n",
       "9   Agent: Definitely, you'll get a tracking numbe...  \n",
       "10  Caller: Alright, that's helpful. I think I'll ...  \n",
       "11  Agent: You're welcome! If you run into any iss...  \n",
       "12  Caller: The pair of shoes I ordered arrived, b...  \n",
       "13  Agent: Of course, we're happy to help with exc...  \n",
       "14  Caller: The order ID is 98765, and I'd like a ...  "
      ]
     },
     "execution_count": 52,
     "metadata": {},
     "output_type": "execute_result"
    }
   ],
   "source": [
    "chunks_df.head(15)"
   ]
  },
  {
   "cell_type": "code",
   "execution_count": 60,
   "id": "8b387bb2",
   "metadata": {},
   "outputs": [
    {
     "data": {
      "text/plain": [
       "95                                                              Agent: As a one-time courtesy, yes. What's the code?\n",
       "78                            Caller: I can't seem to find my wish list on the site anymore. It was there yesterday.\n",
       "416                                                                  Caller: Hi, is your coffee sustainably sourced?\n",
       "36                      Caller: Order number 11223. I'd prefer a full refund rather than a replacement, if possible.\n",
       "187                                                                                  Agent: Shop with peace of mind.\n",
       "124                                                                          Caller: Signed up! Thanks for the info.\n",
       "466                                                       Caller: Hello, can you extend the flash sale? I missed it.\n",
       "73     Agent: Our clothing is made from recycled fabrics and organic cotton, with certifications for sustainability.\n",
       "376                                                                      Caller: Hi, hypoallergenic jewelry options?\n",
       "97                                                                  Agent: Applied to your cart. Proceed when ready.\n",
       "Name: transcript, dtype: object"
      ]
     },
     "metadata": {},
     "output_type": "display_data"
    }
   ],
   "source": [
    "with pd.option_context('display.max_colwidth', None):\n",
    "    display(chunks_df['transcript'].sample(10))"
   ]
  },
  {
   "cell_type": "code",
   "execution_count": 54,
   "id": "0843c694",
   "metadata": {},
   "outputs": [
    {
     "name": "stdout",
     "output_type": "stream",
     "text": [
      "Total chunks: 516\n"
     ]
    }
   ],
   "source": [
    "print(\"Total chunks:\", len(chunks_df))\n"
   ]
  },
  {
   "cell_type": "code",
   "execution_count": null,
   "id": "d9947c71",
   "metadata": {},
   "outputs": [
    {
     "name": "stdout",
     "output_type": "stream",
     "text": [
      "Saved to phone_transcripts_v0.1_chunks.csv\n"
     ]
    }
   ],
   "source": [
    "# save to csv\n",
    "chunks_df.to_csv(\"phone_transcripts_v0.1_chunks.csv\", index=False)\n",
    "print(\"Saved to phone_transcripts_v0.1_chunks.csv\")"
   ]
  }
 ],
 "metadata": {
  "kernelspec": {
   "display_name": "venv",
   "language": "python",
   "name": "python3"
  },
  "language_info": {
   "codemirror_mode": {
    "name": "ipython",
    "version": 3
   },
   "file_extension": ".py",
   "mimetype": "text/x-python",
   "name": "python",
   "nbconvert_exporter": "python",
   "pygments_lexer": "ipython3",
   "version": "3.10.0"
  }
 },
 "nbformat": 4,
 "nbformat_minor": 5
}
