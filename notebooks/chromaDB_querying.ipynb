{
 "cells": [
  {
   "cell_type": "markdown",
   "id": "20168420",
   "metadata": {},
   "source": [
    "## Testing created vector ChromaDB loading & querying"
   ]
  },
  {
   "cell_type": "code",
   "execution_count": null,
   "id": "8ce780f5",
   "metadata": {},
   "outputs": [],
   "source": [
    "# imports\n",
    "import chromadb\n",
    "from openai import OpenAI\n",
    "from dotenv import load_dotenv"
   ]
  },
  {
   "cell_type": "code",
   "execution_count": null,
   "id": "1f93a6ae",
   "metadata": {},
   "outputs": [],
   "source": [
    "# loading env vars\n",
    "load_dotenv()\n",
    "openai_client = OpenAI()"
   ]
  },
  {
   "cell_type": "code",
   "execution_count": 28,
   "id": "2d687f23",
   "metadata": {},
   "outputs": [],
   "source": [
    "# connect to existing Chroma DB\n",
    "chroma_client = chromadb.PersistentClient(path=\"../persistence/chroma\")\n",
    "\n",
    "# get collection\n",
    "collection = chroma_client.get_collection(\"phone_transcripts_v0.1\")"
   ]
  },
  {
   "cell_type": "markdown",
   "id": "ee414ae4",
   "metadata": {},
   "source": [
    "<h4 style=\"color:#3f79ffff; margin:0; font-weight:600;\">Setting a query for a broken blender refund and embedding the query so I can search for similarity in my ChromaDB</h4>"
   ]
  },
  {
   "cell_type": "code",
   "execution_count": 29,
   "id": "3f3648fd",
   "metadata": {},
   "outputs": [
    {
     "name": "stdout",
     "output_type": "stream",
     "text": [
      "Query embedding length: 3072\n",
      "Query embedding sample: [-0.054896049201488495, 0.007448470685631037, -0.0025120845530182123, 0.01097472757101059, -0.006850800011307001]...\n"
     ]
    }
   ],
   "source": [
    "query = \"refund request for a broken blender product\"\n",
    "\n",
    "# embed query with OpenAI\n",
    "query_emb = openai_client.embeddings.create(\n",
    "    model=\"text-embedding-3-large\",\n",
    "    input=query\n",
    ").data[0].embedding\n",
    "\n",
    "print(f\"Query embedding length: {len(query_emb)}\")\n",
    "print(f\"Query embedding sample: {query_emb[:5]}...\")"
   ]
  },
  {
   "cell_type": "markdown",
   "id": "77b6f91a",
   "metadata": {},
   "source": [
    "<h4 style=\"color:#3f79ffff; margin:0; font-weight:600;\">Searching for similarities in the ChromaDB</h4>\n"
   ]
  },
  {
   "cell_type": "code",
   "execution_count": null,
   "id": "a03b3ab7",
   "metadata": {},
   "outputs": [
    {
     "name": "stdout",
     "output_type": "stream",
     "text": [
      "{'ids': [['1_2', '1_1', '78_4', '32_4', '7_3']], 'embeddings': None, 'documents': [[\"Agent: I'm so sorry to hear about that issue with your blender. Could you please provide me with the order number so I can look into this for you?\", \"Caller: Hi there, I recently purchased a blender from your site, but it's making this awful grinding noise after just a couple of uses. I'm really disappointed because I was looking forward to making smoothies every morning.\", 'Agent: Must be defective—refund?', \"Agent: Fill out the online form, and we'll resend or refund once approved.\", \"Caller: Order number 11223. I'd prefer a full refund rather than a replacement, if possible.\"]], 'uris': None, 'included': ['metadatas', 'documents', 'distances'], 'data': None, 'metadatas': [[{'call_id': '1', 'speaker': 'Agent', 'duration': '23520', 'date': '2025-01-15'}, {'date': '2025-01-15', 'duration': '23520', 'speaker': 'Caller', 'call_id': '1'}, {'date': '2025-06-22', 'duration': '31500', 'speaker': 'Agent', 'call_id': '78'}, {'duration': '28200', 'call_id': '32', 'date': '2023-08-08', 'speaker': 'Agent'}, {'speaker': 'Caller', 'call_id': '7', 'duration': '24000', 'date': '2025-07-09'}]], 'distances': [[0.9261102676391602, 0.9417535066604614, 1.114245057106018, 1.1505054235458374, 1.1902580261230469]]}\n",
      "[Call 1 | Chunk 1_2 | Agent | 2025-01-15] Agent: I'm so sorry to hear about that issue with your blender. Could you please provide me with the order number so I can look into this for you?...\n",
      "\n",
      "[Call 1 | Chunk 1_1 | Caller | 2025-01-15] Caller: Hi there, I recently purchased a blender from your site, but it's making this awful grinding noise after just a couple of uses. I'm really dis...\n",
      "\n",
      "[Call 78 | Chunk 78_4 | Agent | 2025-06-22] Agent: Must be defective—refund?...\n",
      "\n",
      "[Call 32 | Chunk 32_4 | Agent | 2023-08-08] Agent: Fill out the online form, and we'll resend or refund once approved....\n",
      "\n",
      "[Call 7 | Chunk 7_3 | Caller | 2025-07-09] Caller: Order number 11223. I'd prefer a full refund rather than a replacement, if possible....\n",
      "\n"
     ]
    }
   ],
   "source": [
    "# test: search for refund request for a broken blender product\n",
    "results = collection.query(\n",
    "    query_embeddings=[query_emb],\n",
    "    n_results=5,\n",
    "    \n",
    ")\n",
    "\n",
    "print(results)\n",
    "\n",
    "docs = results[\"documents\"][0]\n",
    "metas = results[\"metadatas\"][0]\n",
    "ids = results[\"ids\"][0]\n",
    "\n",
    "for i, m, d in zip(ids, metas, docs):\n",
    "    print(f\"[Call {m['call_id']} | Chunk {i} | {m['speaker']} | {m['date']}] {d[:150]}...\\n\")\n",
    "\n",
    "\n"
   ]
  },
  {
   "cell_type": "markdown",
   "id": "29ce4d64",
   "metadata": {},
   "source": [
    "<h4 style=\"color:#3f79ffff; margin:0; font-weight:600;\">Searching with the metadata so we only find \"Caller\" transcripts</h4>\n"
   ]
  },
  {
   "cell_type": "code",
   "execution_count": 32,
   "id": "de349d89",
   "metadata": {},
   "outputs": [
    {
     "name": "stdout",
     "output_type": "stream",
     "text": [
      "{'ids': [['1_1', '7_3', '7_5', '13_3', '32_3']], 'embeddings': None, 'documents': [[\"Caller: Hi there, I recently purchased a blender from your site, but it's making this awful grinding noise after just a couple of uses. I'm really disappointed because I was looking forward to making smoothies every morning.\", \"Caller: Order number 11223. I'd prefer a full refund rather than a replacement, if possible.\", \"Caller: I'd like to return it—please send a label. How long will the refund take once you receive it?\", \"Caller: Yes, but I'd like a refund on the shipping fee as compensation.\", 'Caller: How does that process work? Will I get a replacement?']], 'uris': None, 'included': ['distances', 'documents', 'metadatas'], 'data': None, 'metadatas': [[{'call_id': '1', 'date': '2025-01-15', 'speaker': 'Caller', 'duration': '23520'}, {'date': '2025-07-09', 'speaker': 'Caller', 'call_id': '7', 'duration': '24000'}, {'date': '2025-07-09', 'duration': '24000', 'call_id': '7', 'speaker': 'Caller'}, {'speaker': 'Caller', 'call_id': '13', 'date': '2024-01-07', 'duration': '20700'}, {'speaker': 'Caller', 'duration': '28200', 'date': '2023-08-08', 'call_id': '32'}]], 'distances': [[0.9417535066604614, 1.1902580261230469, 1.2828198671340942, 1.306975245475769, 1.3218265771865845]]}\n",
      "[Call 1 | Chunk 1_1 | Caller | 2025-01-15 | distance=0.9418] Caller: Hi there, I recently purchased a blender from your site, but it's making this awful grinding...\n",
      "\n",
      "[Call 7 | Chunk 7_3 | Caller | 2025-07-09 | distance=1.1903] Caller: Order number 11223. I'd prefer a full refund rather than a replacement, if possible....\n",
      "\n",
      "[Call 7 | Chunk 7_5 | Caller | 2025-07-09 | distance=1.2828] Caller: I'd like to return it—please send a label. How long will the refund take once you receive it...\n",
      "\n",
      "[Call 13 | Chunk 13_3 | Caller | 2024-01-07 | distance=1.3070] Caller: Yes, but I'd like a refund on the shipping fee as compensation....\n",
      "\n",
      "[Call 32 | Chunk 32_3 | Caller | 2023-08-08 | distance=1.3218] Caller: How does that process work? Will I get a replacement?...\n",
      "\n"
     ]
    }
   ],
   "source": [
    "results = collection.query(\n",
    "    query_embeddings=[query_emb],\n",
    "    n_results=5,\n",
    "    where={\"speaker\": \"Caller\"},  # filter metadata speaker = Caller\n",
    "    include=[\"distances\", \"documents\", \"metadatas\"],\n",
    ")\n",
    "\n",
    "print(results)\n",
    "\n",
    "docs = results[\"documents\"][0]\n",
    "metas = results[\"metadatas\"][0]\n",
    "ids = results[\"ids\"][0]\n",
    "dists = results[\"distances\"][0]\n",
    "\n",
    "for i, m, d, dist in zip(ids, metas, docs, dists):\n",
    "    print(f\"[Call {m['call_id']} | Chunk {i} | {m['speaker']} | {m['date']} | distance={dist:.4f}] {d[:100]}...\\n\")"
   ]
  }
 ],
 "metadata": {
  "kernelspec": {
   "display_name": "venv",
   "language": "python",
   "name": "python3"
  },
  "language_info": {
   "codemirror_mode": {
    "name": "ipython",
    "version": 3
   },
   "file_extension": ".py",
   "mimetype": "text/x-python",
   "name": "python",
   "nbconvert_exporter": "python",
   "pygments_lexer": "ipython3",
   "version": "3.10.0"
  }
 },
 "nbformat": 4,
 "nbformat_minor": 5
}
